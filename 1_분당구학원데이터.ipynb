{
 "cells": [
  {
   "cell_type": "code",
   "execution_count": 1,
   "metadata": {
    "ExecuteTime": {
     "end_time": "2023-03-13T02:21:17.935424Z",
     "start_time": "2023-03-13T02:21:17.920400Z"
    },
    "execution": {
     "iopub.execute_input": "2023-03-26T21:39:19.196918Z",
     "iopub.status.busy": "2023-03-26T21:39:19.196918Z",
     "iopub.status.idle": "2023-03-26T21:39:19.207920Z",
     "shell.execute_reply": "2023-03-26T21:39:19.206919Z",
     "shell.execute_reply.started": "2023-03-26T21:39:19.196918Z"
    }
   },
   "outputs": [],
   "source": [
    "#from IPython.display import display, HTML\n",
    "#display(HTML(\"<style>.container { width:100% !important; }</style>\"))"
   ]
  },
  {
   "cell_type": "markdown",
   "metadata": {},
   "source": [
    "### 1 데이터 가져오기(학원 정보)"
   ]
  },
  {
   "cell_type": "markdown",
   "metadata": {},
   "source": [
    "- 분당구전체정보.csv  다운로드 : http://bit.ly/3Yjm75F   \n",
    "- 나이스 교육정보 개방포털에서 임의열 편집하여 분당구 데이터만 가지고 왔습니다)\n",
    "- (원본출처 : https://open.neis.go.kr/portal/data/service/selectServicePage.do?page=1&rows=10&sortColumn=&sortDirection=&infId=OPEN15920190423094641415608&infSeq=1)"
   ]
  },
  {
   "cell_type": "code",
   "execution_count": 2,
   "metadata": {
    "ExecuteTime": {
     "end_time": "2023-03-13T02:21:20.312197Z",
     "start_time": "2023-03-13T02:21:19.796098Z"
    },
    "execution": {
     "iopub.execute_input": "2023-03-26T21:39:19.211215Z",
     "iopub.status.busy": "2023-03-26T21:39:19.210209Z",
     "iopub.status.idle": "2023-03-26T21:39:19.939997Z",
     "shell.execute_reply": "2023-03-26T21:39:19.939997Z",
     "shell.execute_reply.started": "2023-03-26T21:39:19.211215Z"
    }
   },
   "outputs": [],
   "source": [
    "import pandas as pd "
   ]
  },
  {
   "cell_type": "code",
   "execution_count": 3,
   "metadata": {
    "ExecuteTime": {
     "end_time": "2023-03-13T02:21:20.532448Z",
     "start_time": "2023-03-13T02:21:20.483044Z"
    },
    "execution": {
     "iopub.execute_input": "2023-03-26T21:39:19.942339Z",
     "iopub.status.busy": "2023-03-26T21:39:19.942339Z",
     "iopub.status.idle": "2023-03-26T21:39:19.986060Z",
     "shell.execute_reply": "2023-03-26T21:39:19.986060Z",
     "shell.execute_reply.started": "2023-03-26T21:39:19.942339Z"
    }
   },
   "outputs": [],
   "source": [
    "#한글 윈도우에서는 cp949 인코딩을 사용하기 때문에 열어보기 위해서 인코딩 설정을 cp949로 합니다.\n",
    "df = pd.read_csv('분당구전체정보.csv', encoding='cp949')"
   ]
  },
  {
   "cell_type": "code",
   "execution_count": 4,
   "metadata": {
    "ExecuteTime": {
     "end_time": "2023-03-13T02:21:21.467841Z",
     "start_time": "2023-03-13T02:21:21.429748Z"
    },
    "execution": {
     "iopub.execute_input": "2023-03-26T21:39:19.988065Z",
     "iopub.status.busy": "2023-03-26T21:39:19.988065Z",
     "iopub.status.idle": "2023-03-26T21:39:20.016993Z",
     "shell.execute_reply": "2023-03-26T21:39:20.016040Z",
     "shell.execute_reply.started": "2023-03-26T21:39:19.988065Z"
    }
   },
   "outputs": [
    {
     "data": {
      "text/html": [
       "<div>\n",
       "<style scoped>\n",
       "    .dataframe tbody tr th:only-of-type {\n",
       "        vertical-align: middle;\n",
       "    }\n",
       "\n",
       "    .dataframe tbody tr th {\n",
       "        vertical-align: top;\n",
       "    }\n",
       "\n",
       "    .dataframe thead th {\n",
       "        text-align: right;\n",
       "    }\n",
       "</style>\n",
       "<table border=\"1\" class=\"dataframe\">\n",
       "  <thead>\n",
       "    <tr style=\"text-align: right;\">\n",
       "      <th></th>\n",
       "      <th>Unnamed: 0</th>\n",
       "      <th>학원교습소명</th>\n",
       "      <th>학원명</th>\n",
       "      <th>개설일자</th>\n",
       "      <th>등록일자</th>\n",
       "      <th>등록상태명</th>\n",
       "      <th>정원합계</th>\n",
       "      <th>일시수용능력인원합계</th>\n",
       "      <th>분야명</th>\n",
       "      <th>교습계열명</th>\n",
       "      <th>교습과정명</th>\n",
       "      <th>도로명우편번호</th>\n",
       "      <th>도로명주소</th>\n",
       "      <th>도로명상세주소</th>\n",
       "      <th>구</th>\n",
       "    </tr>\n",
       "  </thead>\n",
       "  <tbody>\n",
       "    <tr>\n",
       "      <th>0</th>\n",
       "      <td>0</td>\n",
       "      <td>학원</td>\n",
       "      <td>(2관)기찬에듀기찬수학학원</td>\n",
       "      <td>20200820</td>\n",
       "      <td>20200820</td>\n",
       "      <td>개원</td>\n",
       "      <td>240</td>\n",
       "      <td>95</td>\n",
       "      <td>입시.검정 및 보습</td>\n",
       "      <td>보통교과</td>\n",
       "      <td>보습</td>\n",
       "      <td>13555</td>\n",
       "      <td>경기도 성남시 분당구 정자일로 234</td>\n",
       "      <td>/ 305호 (정자동/ 태남프라자)</td>\n",
       "      <td>분당구</td>\n",
       "    </tr>\n",
       "    <tr>\n",
       "      <th>1</th>\n",
       "      <td>1</td>\n",
       "      <td>학원</td>\n",
       "      <td>(2관)짱솔학원</td>\n",
       "      <td>20151124</td>\n",
       "      <td>20151124</td>\n",
       "      <td>개원</td>\n",
       "      <td>150</td>\n",
       "      <td>114</td>\n",
       "      <td>입시.검정 및 보습</td>\n",
       "      <td>보통교과</td>\n",
       "      <td>보습</td>\n",
       "      <td>13601</td>\n",
       "      <td>경기도 성남시 분당구 불정로 252</td>\n",
       "      <td>/ 401호/402호 (수내동)</td>\n",
       "      <td>분당구</td>\n",
       "    </tr>\n",
       "    <tr>\n",
       "      <th>2</th>\n",
       "      <td>2</td>\n",
       "      <td>학원</td>\n",
       "      <td>(분당점)더원학원</td>\n",
       "      <td>20220610</td>\n",
       "      <td>20220610</td>\n",
       "      <td>개원</td>\n",
       "      <td>300</td>\n",
       "      <td>143</td>\n",
       "      <td>입시.검정 및 보습</td>\n",
       "      <td>보통교과</td>\n",
       "      <td>보습</td>\n",
       "      <td>13601</td>\n",
       "      <td>경기도 성남시 분당구 불정로 254</td>\n",
       "      <td>/ 4층 (수내동/ 삼평프라자)</td>\n",
       "      <td>분당구</td>\n",
       "    </tr>\n",
       "    <tr>\n",
       "      <th>3</th>\n",
       "      <td>3</td>\n",
       "      <td>학원</td>\n",
       "      <td>(주)그래디언트학원</td>\n",
       "      <td>20111205</td>\n",
       "      <td>20111205</td>\n",
       "      <td>개원</td>\n",
       "      <td>75</td>\n",
       "      <td>72</td>\n",
       "      <td>입시.검정 및 보습</td>\n",
       "      <td>보통교과</td>\n",
       "      <td>보습</td>\n",
       "      <td>13558</td>\n",
       "      <td>경기도 성남시 분당구 성남대로331번길 3-13</td>\n",
       "      <td>/ 606호 (정자동/ 대명제스트빌딩)</td>\n",
       "      <td>분당구</td>\n",
       "    </tr>\n",
       "    <tr>\n",
       "      <th>4</th>\n",
       "      <td>4</td>\n",
       "      <td>학원</td>\n",
       "      <td>(주)아이에스이영어원격학원</td>\n",
       "      <td>20120720</td>\n",
       "      <td>20120720</td>\n",
       "      <td>개원</td>\n",
       "      <td>27</td>\n",
       "      <td>100</td>\n",
       "      <td>입시.검정 및 보습</td>\n",
       "      <td>보통교과</td>\n",
       "      <td>보습</td>\n",
       "      <td>13591</td>\n",
       "      <td>경기도 성남시 분당구 황새울로360번길 21</td>\n",
       "      <td>/ 604호 일부 (서현동/ 분당서현신영팰리스타워)</td>\n",
       "      <td>분당구</td>\n",
       "    </tr>\n",
       "  </tbody>\n",
       "</table>\n",
       "</div>"
      ],
      "text/plain": [
       "   Unnamed: 0 학원교습소명             학원명      개설일자      등록일자 등록상태명  정원합계  \\\n",
       "0           0     학원  (2관)기찬에듀기찬수학학원  20200820  20200820    개원   240   \n",
       "1           1     학원        (2관)짱솔학원  20151124  20151124    개원   150   \n",
       "2           2     학원       (분당점)더원학원  20220610  20220610    개원   300   \n",
       "3           3     학원      (주)그래디언트학원  20111205  20111205    개원    75   \n",
       "4           4     학원  (주)아이에스이영어원격학원  20120720  20120720    개원    27   \n",
       "\n",
       "   일시수용능력인원합계         분야명 교습계열명 교습과정명  도로명우편번호                       도로명주소  \\\n",
       "0          95  입시.검정 및 보습  보통교과    보습    13555        경기도 성남시 분당구 정자일로 234   \n",
       "1         114  입시.검정 및 보습  보통교과    보습    13601         경기도 성남시 분당구 불정로 252   \n",
       "2         143  입시.검정 및 보습  보통교과    보습    13601         경기도 성남시 분당구 불정로 254   \n",
       "3          72  입시.검정 및 보습  보통교과    보습    13558  경기도 성남시 분당구 성남대로331번길 3-13   \n",
       "4         100  입시.검정 및 보습  보통교과    보습    13591    경기도 성남시 분당구 황새울로360번길 21   \n",
       "\n",
       "                        도로명상세주소    구  \n",
       "0           / 305호 (정자동/ 태남프라자)  분당구  \n",
       "1             / 401호/402호 (수내동)  분당구  \n",
       "2             / 4층 (수내동/ 삼평프라자)  분당구  \n",
       "3         / 606호 (정자동/ 대명제스트빌딩)  분당구  \n",
       "4  / 604호 일부 (서현동/ 분당서현신영팰리스타워)  분당구  "
      ]
     },
     "execution_count": 4,
     "metadata": {},
     "output_type": "execute_result"
    }
   ],
   "source": [
    "df.head()"
   ]
  },
  {
   "cell_type": "markdown",
   "metadata": {},
   "source": [
    "### 2 주소를 위경도로 변환 (Geocoder)"
   ]
  },
  {
   "cell_type": "markdown",
   "metadata": {},
   "source": [
    "- 파이썬 geopy 패키지 이용 (X)\n",
    "\n",
    "위경도 기반 클러스터링 한 결과가 이상해서 확인해보니, 잘못되게 변환 되는 것들이 있었음.\n",
    "\n",
    "- 구글 스프레드 시트 이용하기 (X)\n",
    "\n",
    "하루에 변환할 수 있는 개수가 제한이 있는듯 함. (1000건 미만)\n",
    "\n",
    "\n",
    "- 브이월드 사용(O) \n",
    "\n",
    "    * 인증키 발급 받아야함 (쉬움)\n",
    "    * 사용법 https://www.vworld.kr/dev/v4dv_geocoderguide2_s001.do"
   ]
  },
  {
   "cell_type": "markdown",
   "metadata": {},
   "source": [
    "#### 2_1 주소 1개로 테스트"
   ]
  },
  {
   "cell_type": "code",
   "execution_count": 5,
   "metadata": {
    "ExecuteTime": {
     "end_time": "2023-03-13T02:29:41.896574Z",
     "start_time": "2023-03-13T02:29:41.762279Z"
    },
    "execution": {
     "iopub.execute_input": "2023-03-26T21:39:20.018992Z",
     "iopub.status.busy": "2023-03-26T21:39:20.018992Z",
     "iopub.status.idle": "2023-03-26T21:39:20.353908Z",
     "shell.execute_reply": "2023-03-26T21:39:20.352773Z",
     "shell.execute_reply.started": "2023-03-26T21:39:20.018992Z"
    }
   },
   "outputs": [
    {
     "name": "stdout",
     "output_type": "stream",
     "text": [
      "{'response': {'service': {'name': 'address', 'version': '2.0', 'operation': 'getcoord', 'time': '108(ms)'}, 'status': 'OK', 'input': {'type': 'road', 'address': '판교로 242'}, 'refined': {'text': '경기도 성남시 분당구 판교로 242 (삼평동)', 'structure': {'level0': '대한민국', 'level1': '경기도', 'level2': '성남시 분당구', 'level3': '삼평동', 'level4L': '판교로', 'level4LC': '', 'level4A': '삼평동', 'level4AC': '4113565500', 'level5': '242', 'detail': ''}}, 'result': {'crs': 'EPSG:4326', 'point': {'x': '127.101313354', 'y': '37.402352535'}}}}\n"
     ]
    }
   ],
   "source": [
    "# https://www.vworld.kr/dev/v4dv_geocoderguide2_s001.do  에 있는 샘플 예제코드로 테스트 \n",
    "\n",
    "#해당 정보를 받아오기 위해 HTTP 통신을 사용할 수 있는 requests 를 사용. \n",
    "# requests 는 작고 단순한 브라우저로 HTTP 통신을 통해 받은 응답값을 반환함\n",
    "\n",
    "\n",
    "import requests\n",
    "apiurl = \"http://api.vworld.kr/req/address?\"\n",
    "params = {\n",
    "    \"service\": \"address\",\n",
    "    \"request\": \"getcoord\",\n",
    "    \"crs\": \"epsg:4326\",\n",
    "    \"address\": \"판교로 242\",\n",
    "    \"format\": \"json\", #응답결과 포맷 \n",
    "    \"type\": \"road\",\n",
    "    \"key\": \"BCAAD83E-1AEF-3DC2-BBBB-068C7C5EACC5\" # 각자의 인증키 입력\n",
    "}\n",
    "response = requests.get(apiurl, params=params)\n",
    "if response.status_code == 200:\n",
    "    json_data = response.json() \n",
    "    print(json_data)"
   ]
  },
  {
   "cell_type": "code",
   "execution_count": 6,
   "metadata": {
    "ExecuteTime": {
     "end_time": "2023-03-09T09:02:03.979937Z",
     "start_time": "2023-03-09T09:02:03.969016Z"
    },
    "execution": {
     "iopub.execute_input": "2023-03-26T21:39:20.354911Z",
     "iopub.status.busy": "2023-03-26T21:39:20.354911Z",
     "iopub.status.idle": "2023-03-26T21:39:20.369131Z",
     "shell.execute_reply": "2023-03-26T21:39:20.367918Z",
     "shell.execute_reply.started": "2023-03-26T21:39:20.354911Z"
    }
   },
   "outputs": [
    {
     "data": {
      "text/plain": [
       "dict"
      ]
     },
     "execution_count": 6,
     "metadata": {},
     "output_type": "execute_result"
    }
   ],
   "source": [
    "#응답이 dictionary 타입인 것을 알 수 있습니다. \n",
    "type(json_data)"
   ]
  },
  {
   "cell_type": "code",
   "execution_count": 7,
   "metadata": {
    "ExecuteTime": {
     "end_time": "2023-03-13T02:22:02.043176Z",
     "start_time": "2023-03-13T02:22:02.010449Z"
    },
    "execution": {
     "iopub.execute_input": "2023-03-26T21:39:20.372147Z",
     "iopub.status.busy": "2023-03-26T21:39:20.370140Z",
     "iopub.status.idle": "2023-03-26T21:39:20.384837Z",
     "shell.execute_reply": "2023-03-26T21:39:20.382660Z",
     "shell.execute_reply.started": "2023-03-26T21:39:20.372147Z"
    }
   },
   "outputs": [
    {
     "name": "stdout",
     "output_type": "stream",
     "text": [
      "{\n",
      "\t\"response\": {\n",
      "\t\t\"service\": {\n",
      "\t\t\t\"name\": \"address\",\n",
      "\t\t\t\"version\": \"2.0\",\n",
      "\t\t\t\"operation\": \"getcoord\",\n",
      "\t\t\t\"time\": \"108(ms)\"\n",
      "\t\t},\n",
      "\t\t\"status\": \"OK\",\n",
      "\t\t\"input\": {\n",
      "\t\t\t\"type\": \"road\",\n",
      "\t\t\t\"address\": \"판교로 242\"\n",
      "\t\t},\n",
      "\t\t\"refined\": {\n",
      "\t\t\t\"text\": \"경기도 성남시 분당구 판교로 242 (삼평동)\",\n",
      "\t\t\t\"structure\": {\n",
      "\t\t\t\t\"level0\": \"대한민국\",\n",
      "\t\t\t\t\"level1\": \"경기도\",\n",
      "\t\t\t\t\"level2\": \"성남시 분당구\",\n",
      "\t\t\t\t\"level3\": \"삼평동\",\n",
      "\t\t\t\t\"level4L\": \"판교로\",\n",
      "\t\t\t\t\"level4LC\": \"\",\n",
      "\t\t\t\t\"level4A\": \"삼평동\",\n",
      "\t\t\t\t\"level4AC\": \"4113565500\",\n",
      "\t\t\t\t\"level5\": \"242\",\n",
      "\t\t\t\t\"detail\": \"\"\n",
      "\t\t\t}\n",
      "\t\t},\n",
      "\t\t\"result\": {\n",
      "\t\t\t\"crs\": \"EPSG:4326\",\n",
      "\t\t\t\"point\": {\n",
      "\t\t\t\t\"x\": \"127.101313354\",\n",
      "\t\t\t\t\"y\": \"37.402352535\"\n",
      "\t\t\t}\n",
      "\t\t}\n",
      "\t}\n",
      "}\n"
     ]
    }
   ],
   "source": [
    "# 주소 1개에 대한 응답을 보기 쉽게 펼쳐봅니다.\n",
    "# 파이썬에서 JSON 형태의 데이터를 처리하기 위해서 사용되는 내장 모듈인 json을 import 합니다. \n",
    "\n",
    "# 딕셔너리 자료형을 json 파일로 생성할때는 json.dump 를 사용합니다.\n",
    "# json.dump 함수는 기본적으로 한글을 아스키 문자열로 변경하기 때문에,\n",
    "# 가독성이 좋게 ensure_ascii=False 을 주어 아스키 형태로 변환하지 않게 합니다.  \n",
    "import json\n",
    "\n",
    "print(json.dumps(json_data, indent=\"\\t\", ensure_ascii=False) )"
   ]
  },
  {
   "cell_type": "code",
   "execution_count": 8,
   "metadata": {
    "ExecuteTime": {
     "end_time": "2023-03-13T02:25:12.308828Z",
     "start_time": "2023-03-13T02:25:12.285258Z"
    },
    "execution": {
     "iopub.execute_input": "2023-03-26T21:39:20.386240Z",
     "iopub.status.busy": "2023-03-26T21:39:20.386240Z",
     "iopub.status.idle": "2023-03-26T21:39:20.398409Z",
     "shell.execute_reply": "2023-03-26T21:39:20.398409Z",
     "shell.execute_reply.started": "2023-03-26T21:39:20.386240Z"
    }
   },
   "outputs": [
    {
     "data": {
      "text/plain": [
       "{'x': '127.101313354', 'y': '37.402352535'}"
      ]
     },
     "execution_count": 8,
     "metadata": {},
     "output_type": "execute_result"
    }
   ],
   "source": [
    "#x, y 좌표를 얻기 위하여 해당 key 로 접근합니다. \n",
    "json_data['response']['result']['point']"
   ]
  },
  {
   "cell_type": "code",
   "execution_count": 9,
   "metadata": {
    "ExecuteTime": {
     "end_time": "2023-03-13T02:25:16.332068Z",
     "start_time": "2023-03-13T02:25:16.314647Z"
    },
    "execution": {
     "iopub.execute_input": "2023-03-26T21:39:20.402684Z",
     "iopub.status.busy": "2023-03-26T21:39:20.402684Z",
     "iopub.status.idle": "2023-03-26T21:39:20.414905Z",
     "shell.execute_reply": "2023-03-26T21:39:20.413504Z",
     "shell.execute_reply.started": "2023-03-26T21:39:20.402684Z"
    }
   },
   "outputs": [],
   "source": [
    "# '도로명주소' 열을 일괄적으로 변경해주기 위하여 apply 에 적용할 함수를 작성합니다. \n",
    "# 함수 호출 시 에러가 날 수도 있기 때문에 error 에 대한 처리를 -2, -1 값으로 처리해줍니다. \n",
    "\n",
    "import requests\n",
    "\n",
    "def geocoding_vworld(address_in):\n",
    "\n",
    "    apiurl = \"http://api.vworld.kr/req/address?\"\n",
    "    params = {\n",
    "        \"service\": \"address\",\n",
    "        \"request\": \"getcoord\",\n",
    "        \"crs\": \"epsg:4326\",\n",
    "        \"address\": address_in,\n",
    "        \"format\": \"json\",\n",
    "        \"type\": \"road\",\n",
    "        \"key\": \"AAAAAA-DDDD-CCCC-BBBB-XXXXXXXXXXXX\"  #각자 발급받은 키 값 입력으로 수정해야합니다.\n",
    "    }\n",
    "    response = requests.get(apiurl, params=params)\n",
    "    if response.status_code == 200:\n",
    "        json_data = response.json()\n",
    "        try:\n",
    "            return json_data['response']['result']['point']\n",
    "        except:\n",
    "            return -2\n",
    "    else:\n",
    "        return -1"
   ]
  },
  {
   "cell_type": "code",
   "execution_count": 10,
   "metadata": {
    "ExecuteTime": {
     "end_time": "2023-03-13T02:32:44.272589Z",
     "start_time": "2023-03-13T02:29:47.281471Z"
    },
    "execution": {
     "iopub.execute_input": "2023-03-26T21:39:20.420916Z",
     "iopub.status.busy": "2023-03-26T21:39:20.417913Z",
     "iopub.status.idle": "2023-03-26T21:41:44.331400Z",
     "shell.execute_reply": "2023-03-26T21:41:44.330203Z",
     "shell.execute_reply.started": "2023-03-26T21:39:20.420916Z"
    }
   },
   "outputs": [],
   "source": [
    "df['위치'] = df['도로명주소'].apply(geocoding_vworld)"
   ]
  },
  {
   "cell_type": "code",
   "execution_count": 11,
   "metadata": {
    "ExecuteTime": {
     "end_time": "2023-03-13T02:34:11.710967Z",
     "start_time": "2023-03-13T02:34:11.680537Z"
    },
    "execution": {
     "iopub.execute_input": "2023-03-26T21:41:44.332405Z",
     "iopub.status.busy": "2023-03-26T21:41:44.332405Z",
     "iopub.status.idle": "2023-03-26T21:41:44.346854Z",
     "shell.execute_reply": "2023-03-26T21:41:44.345556Z",
     "shell.execute_reply.started": "2023-03-26T21:41:44.332405Z"
    }
   },
   "outputs": [
    {
     "data": {
      "text/plain": [
       "0    {'x': '127.106281974', 'y': '37.371212190'}\n",
       "1    {'x': '127.126641894', 'y': '37.366216199'}\n",
       "2    {'x': '127.126822062', 'y': '37.366395367'}\n",
       "3    {'x': '127.107695832', 'y': '37.364393218'}\n",
       "4    {'x': '127.125705411', 'y': '37.385710025'}\n",
       "Name: 위치, dtype: object"
      ]
     },
     "execution_count": 11,
     "metadata": {},
     "output_type": "execute_result"
    }
   ],
   "source": [
    "df['위치'].head()"
   ]
  },
  {
   "cell_type": "code",
   "execution_count": 12,
   "metadata": {
    "ExecuteTime": {
     "end_time": "2023-03-13T02:35:26.125902Z",
     "start_time": "2023-03-13T02:35:26.101178Z"
    },
    "execution": {
     "iopub.execute_input": "2023-03-26T21:41:44.348858Z",
     "iopub.status.busy": "2023-03-26T21:41:44.347863Z",
     "iopub.status.idle": "2023-03-26T21:41:44.393455Z",
     "shell.execute_reply": "2023-03-26T21:41:44.392451Z",
     "shell.execute_reply.started": "2023-03-26T21:41:44.348858Z"
    }
   },
   "outputs": [
    {
     "data": {
      "text/html": [
       "<div>\n",
       "<style scoped>\n",
       "    .dataframe tbody tr th:only-of-type {\n",
       "        vertical-align: middle;\n",
       "    }\n",
       "\n",
       "    .dataframe tbody tr th {\n",
       "        vertical-align: top;\n",
       "    }\n",
       "\n",
       "    .dataframe thead th {\n",
       "        text-align: right;\n",
       "    }\n",
       "</style>\n",
       "<table border=\"1\" class=\"dataframe\">\n",
       "  <thead>\n",
       "    <tr style=\"text-align: right;\">\n",
       "      <th></th>\n",
       "      <th>Unnamed: 0</th>\n",
       "      <th>학원교습소명</th>\n",
       "      <th>학원명</th>\n",
       "      <th>개설일자</th>\n",
       "      <th>등록일자</th>\n",
       "      <th>등록상태명</th>\n",
       "      <th>정원합계</th>\n",
       "      <th>일시수용능력인원합계</th>\n",
       "      <th>분야명</th>\n",
       "      <th>교습계열명</th>\n",
       "      <th>교습과정명</th>\n",
       "      <th>도로명우편번호</th>\n",
       "      <th>도로명주소</th>\n",
       "      <th>도로명상세주소</th>\n",
       "      <th>구</th>\n",
       "      <th>위치</th>\n",
       "    </tr>\n",
       "  </thead>\n",
       "  <tbody>\n",
       "    <tr>\n",
       "      <th>817</th>\n",
       "      <td>1124</td>\n",
       "      <td>학원</td>\n",
       "      <td>쁘띠뜨망아트스튜디오미술학원</td>\n",
       "      <td>20180112</td>\n",
       "      <td>20180112</td>\n",
       "      <td>개원</td>\n",
       "      <td>32</td>\n",
       "      <td>42</td>\n",
       "      <td>예능(대)</td>\n",
       "      <td>예능(중)</td>\n",
       "      <td>미술</td>\n",
       "      <td>13477</td>\n",
       "      <td>경기도 성남시 분당구 운중로233번길 17-12</td>\n",
       "      <td>/ 1층일부 (판교동)</td>\n",
       "      <td>분당구</td>\n",
       "      <td>-2</td>\n",
       "    </tr>\n",
       "    <tr>\n",
       "      <th>1125</th>\n",
       "      <td>1584</td>\n",
       "      <td>학원</td>\n",
       "      <td>아뿌뚜아미술학원</td>\n",
       "      <td>20180420</td>\n",
       "      <td>20180420</td>\n",
       "      <td>개원</td>\n",
       "      <td>15</td>\n",
       "      <td>40</td>\n",
       "      <td>예능(대)</td>\n",
       "      <td>예능(중)</td>\n",
       "      <td>미술</td>\n",
       "      <td>13477</td>\n",
       "      <td>경기도 성남시 분당구 운중로267번길 14-6</td>\n",
       "      <td>/ 1층 (판교동)</td>\n",
       "      <td>분당구</td>\n",
       "      <td>-2</td>\n",
       "    </tr>\n",
       "    <tr>\n",
       "      <th>1328</th>\n",
       "      <td>1863</td>\n",
       "      <td>교습소</td>\n",
       "      <td>연당서예교습소</td>\n",
       "      <td>20130514</td>\n",
       "      <td>20130514</td>\n",
       "      <td>개원</td>\n",
       "      <td>18</td>\n",
       "      <td>9</td>\n",
       "      <td>기타(대)</td>\n",
       "      <td>기타(중)</td>\n",
       "      <td>서예</td>\n",
       "      <td>13477</td>\n",
       "      <td>경기도 성남시 분당구 운중로233번길 8-2</td>\n",
       "      <td>/ 1층일부 (판교동)</td>\n",
       "      <td>분당구</td>\n",
       "      <td>-2</td>\n",
       "    </tr>\n",
       "  </tbody>\n",
       "</table>\n",
       "</div>"
      ],
      "text/plain": [
       "      Unnamed: 0 학원교습소명             학원명      개설일자      등록일자 등록상태명  정원합계  \\\n",
       "817         1124     학원  쁘띠뜨망아트스튜디오미술학원  20180112  20180112    개원    32   \n",
       "1125        1584     학원        아뿌뚜아미술학원  20180420  20180420    개원    15   \n",
       "1328        1863    교습소         연당서예교습소  20130514  20130514    개원    18   \n",
       "\n",
       "      일시수용능력인원합계    분야명  교습계열명 교습과정명  도로명우편번호                       도로명주소  \\\n",
       "817           42  예능(대)  예능(중)    미술    13477  경기도 성남시 분당구 운중로233번길 17-12   \n",
       "1125          40  예능(대)  예능(중)    미술    13477   경기도 성남시 분당구 운중로267번길 14-6   \n",
       "1328           9  기타(대)  기타(중)    서예    13477    경기도 성남시 분당구 운중로233번길 8-2   \n",
       "\n",
       "           도로명상세주소    구  위치  \n",
       "817   / 1층일부 (판교동)  분당구  -2  \n",
       "1125    / 1층 (판교동)  분당구  -2  \n",
       "1328  / 1층일부 (판교동)  분당구  -2  "
      ]
     },
     "execution_count": 12,
     "metadata": {},
     "output_type": "execute_result"
    }
   ],
   "source": [
    "df.loc[(df['위치'] == -2) | (df['위치'] == -1)]"
   ]
  },
  {
   "cell_type": "code",
   "execution_count": 13,
   "metadata": {
    "ExecuteTime": {
     "end_time": "2023-03-13T02:35:18.184975Z",
     "start_time": "2023-03-13T02:35:18.153872Z"
    },
    "execution": {
     "iopub.execute_input": "2023-03-26T21:41:44.394940Z",
     "iopub.status.busy": "2023-03-26T21:41:44.394940Z",
     "iopub.status.idle": "2023-03-26T21:41:44.426058Z",
     "shell.execute_reply": "2023-03-26T21:41:44.423571Z",
     "shell.execute_reply.started": "2023-03-26T21:41:44.394940Z"
    }
   },
   "outputs": [],
   "source": [
    "df.drop(df[df['위치'] == -2].index , inplace = True)"
   ]
  },
  {
   "cell_type": "code",
   "execution_count": 14,
   "metadata": {
    "ExecuteTime": {
     "end_time": "2023-03-13T02:35:54.733632Z",
     "start_time": "2023-03-13T02:35:54.704903Z"
    },
    "execution": {
     "iopub.execute_input": "2023-03-26T21:41:44.429068Z",
     "iopub.status.busy": "2023-03-26T21:41:44.429068Z",
     "iopub.status.idle": "2023-03-26T21:41:44.439726Z",
     "shell.execute_reply": "2023-03-26T21:41:44.438725Z",
     "shell.execute_reply.started": "2023-03-26T21:41:44.429068Z"
    }
   },
   "outputs": [
    {
     "data": {
      "text/plain": [
       "{'x': '127.106281974', 'y': '37.371212190'}"
      ]
     },
     "execution_count": 14,
     "metadata": {},
     "output_type": "execute_result"
    }
   ],
   "source": [
    "df['위치'][0]"
   ]
  },
  {
   "cell_type": "code",
   "execution_count": 15,
   "metadata": {
    "ExecuteTime": {
     "end_time": "2023-03-13T02:35:57.758831Z",
     "start_time": "2023-03-13T02:35:57.731229Z"
    },
    "execution": {
     "iopub.execute_input": "2023-03-26T21:41:44.440725Z",
     "iopub.status.busy": "2023-03-26T21:41:44.440725Z",
     "iopub.status.idle": "2023-03-26T21:41:44.458029Z",
     "shell.execute_reply": "2023-03-26T21:41:44.453882Z",
     "shell.execute_reply.started": "2023-03-26T21:41:44.440725Z"
    }
   },
   "outputs": [
    {
     "data": {
      "text/plain": [
       "dict"
      ]
     },
     "execution_count": 15,
     "metadata": {},
     "output_type": "execute_result"
    }
   ],
   "source": [
    "type(df['위치'][0])"
   ]
  },
  {
   "cell_type": "code",
   "execution_count": 16,
   "metadata": {
    "ExecuteTime": {
     "end_time": "2023-03-13T02:36:17.568240Z",
     "start_time": "2023-03-13T02:36:17.551450Z"
    },
    "execution": {
     "iopub.execute_input": "2023-03-26T21:41:44.463550Z",
     "iopub.status.busy": "2023-03-26T21:41:44.462361Z",
     "iopub.status.idle": "2023-03-26T21:41:44.484788Z",
     "shell.execute_reply": "2023-03-26T21:41:44.484788Z",
     "shell.execute_reply.started": "2023-03-26T21:41:44.463550Z"
    }
   },
   "outputs": [
    {
     "data": {
      "text/plain": [
       "'127.106281974'"
      ]
     },
     "execution_count": 16,
     "metadata": {},
     "output_type": "execute_result"
    }
   ],
   "source": [
    "df['위치'][0]['x']"
   ]
  },
  {
   "cell_type": "code",
   "execution_count": 17,
   "metadata": {
    "ExecuteTime": {
     "end_time": "2023-03-13T02:36:43.747860Z",
     "start_time": "2023-03-13T02:36:43.730077Z"
    },
    "execution": {
     "iopub.execute_input": "2023-03-26T21:41:44.487169Z",
     "iopub.status.busy": "2023-03-26T21:41:44.487169Z",
     "iopub.status.idle": "2023-03-26T21:41:44.501418Z",
     "shell.execute_reply": "2023-03-26T21:41:44.500134Z",
     "shell.execute_reply.started": "2023-03-26T21:41:44.487169Z"
    }
   },
   "outputs": [],
   "source": [
    "def lat_extract(full_str):\n",
    "\n",
    "    return full_str['y']"
   ]
  },
  {
   "cell_type": "code",
   "execution_count": 18,
   "metadata": {
    "ExecuteTime": {
     "end_time": "2023-03-13T02:36:53.677974Z",
     "start_time": "2023-03-13T02:36:53.652863Z"
    },
    "execution": {
     "iopub.execute_input": "2023-03-26T21:41:44.503814Z",
     "iopub.status.busy": "2023-03-26T21:41:44.502419Z",
     "iopub.status.idle": "2023-03-26T21:41:44.515365Z",
     "shell.execute_reply": "2023-03-26T21:41:44.515365Z",
     "shell.execute_reply.started": "2023-03-26T21:41:44.503814Z"
    }
   },
   "outputs": [],
   "source": [
    "def long_extract(full_str):\n",
    "    \n",
    "    return full_str['x']"
   ]
  },
  {
   "cell_type": "code",
   "execution_count": 19,
   "metadata": {
    "ExecuteTime": {
     "end_time": "2023-03-13T02:37:04.799614Z",
     "start_time": "2023-03-13T02:37:04.785187Z"
    },
    "execution": {
     "iopub.execute_input": "2023-03-26T21:41:44.517924Z",
     "iopub.status.busy": "2023-03-26T21:41:44.516878Z",
     "iopub.status.idle": "2023-03-26T21:41:44.532862Z",
     "shell.execute_reply": "2023-03-26T21:41:44.530515Z",
     "shell.execute_reply.started": "2023-03-26T21:41:44.517924Z"
    }
   },
   "outputs": [],
   "source": [
    "df['lat'] = df['위치'].apply(lat_extract)"
   ]
  },
  {
   "cell_type": "code",
   "execution_count": 20,
   "metadata": {
    "ExecuteTime": {
     "end_time": "2023-03-13T02:37:05.608258Z",
     "start_time": "2023-03-13T02:37:05.589198Z"
    },
    "execution": {
     "iopub.execute_input": "2023-03-26T21:41:44.538400Z",
     "iopub.status.busy": "2023-03-26T21:41:44.535363Z",
     "iopub.status.idle": "2023-03-26T21:41:44.561832Z",
     "shell.execute_reply": "2023-03-26T21:41:44.561832Z",
     "shell.execute_reply.started": "2023-03-26T21:41:44.538400Z"
    }
   },
   "outputs": [],
   "source": [
    "df['lon'] = df['위치'].apply(long_extract)"
   ]
  },
  {
   "cell_type": "code",
   "execution_count": 21,
   "metadata": {
    "ExecuteTime": {
     "end_time": "2023-03-13T02:37:21.781841Z",
     "start_time": "2023-03-13T02:37:21.757190Z"
    },
    "execution": {
     "iopub.execute_input": "2023-03-26T21:41:44.564039Z",
     "iopub.status.busy": "2023-03-26T21:41:44.564039Z",
     "iopub.status.idle": "2023-03-26T21:41:44.578799Z",
     "shell.execute_reply": "2023-03-26T21:41:44.577441Z",
     "shell.execute_reply.started": "2023-03-26T21:41:44.564039Z"
    }
   },
   "outputs": [
    {
     "data": {
      "text/plain": [
       "0    37.371212190\n",
       "1    37.366216199\n",
       "2    37.366395367\n",
       "3    37.364393218\n",
       "4    37.385710025\n",
       "Name: lat, dtype: object"
      ]
     },
     "execution_count": 21,
     "metadata": {},
     "output_type": "execute_result"
    }
   ],
   "source": [
    "df['lat'].head()"
   ]
  },
  {
   "cell_type": "code",
   "execution_count": 22,
   "metadata": {
    "ExecuteTime": {
     "end_time": "2023-03-13T02:37:38.030169Z",
     "start_time": "2023-03-13T02:37:37.995472Z"
    },
    "execution": {
     "iopub.execute_input": "2023-03-26T21:41:44.579808Z",
     "iopub.status.busy": "2023-03-26T21:41:44.579808Z",
     "iopub.status.idle": "2023-03-26T21:41:44.595001Z",
     "shell.execute_reply": "2023-03-26T21:41:44.592827Z",
     "shell.execute_reply.started": "2023-03-26T21:41:44.579808Z"
    }
   },
   "outputs": [
    {
     "data": {
      "text/plain": [
       "0    127.106281974\n",
       "1    127.126641894\n",
       "2    127.126822062\n",
       "3    127.107695832\n",
       "4    127.125705411\n",
       "Name: lon, dtype: object"
      ]
     },
     "execution_count": 22,
     "metadata": {},
     "output_type": "execute_result"
    }
   ],
   "source": [
    "df['lon'].head()"
   ]
  },
  {
   "cell_type": "code",
   "execution_count": 23,
   "metadata": {
    "ExecuteTime": {
     "end_time": "2023-03-13T02:38:08.473710Z",
     "start_time": "2023-03-13T02:38:08.446594Z"
    },
    "execution": {
     "iopub.execute_input": "2023-03-26T21:41:44.596215Z",
     "iopub.status.busy": "2023-03-26T21:41:44.595001Z",
     "iopub.status.idle": "2023-03-26T21:41:44.609899Z",
     "shell.execute_reply": "2023-03-26T21:41:44.608411Z",
     "shell.execute_reply.started": "2023-03-26T21:41:44.596215Z"
    }
   },
   "outputs": [],
   "source": [
    "df.drop('위치', axis=1, inplace=True)"
   ]
  },
  {
   "cell_type": "code",
   "execution_count": 24,
   "metadata": {
    "ExecuteTime": {
     "end_time": "2023-03-13T02:38:18.696643Z",
     "start_time": "2023-03-13T02:38:18.662742Z"
    },
    "execution": {
     "iopub.execute_input": "2023-03-26T21:41:44.616015Z",
     "iopub.status.busy": "2023-03-26T21:41:44.616015Z",
     "iopub.status.idle": "2023-03-26T21:41:44.625214Z",
     "shell.execute_reply": "2023-03-26T21:41:44.624214Z",
     "shell.execute_reply.started": "2023-03-26T21:41:44.616015Z"
    }
   },
   "outputs": [],
   "source": [
    "df.drop('Unnamed: 0', axis=1, inplace=True)"
   ]
  },
  {
   "cell_type": "code",
   "execution_count": 25,
   "metadata": {
    "ExecuteTime": {
     "end_time": "2023-03-13T02:38:21.999319Z",
     "start_time": "2023-03-13T02:38:21.936708Z"
    },
    "execution": {
     "iopub.execute_input": "2023-03-26T21:41:44.627362Z",
     "iopub.status.busy": "2023-03-26T21:41:44.627362Z",
     "iopub.status.idle": "2023-03-26T21:41:44.657548Z",
     "shell.execute_reply": "2023-03-26T21:41:44.656198Z",
     "shell.execute_reply.started": "2023-03-26T21:41:44.627362Z"
    }
   },
   "outputs": [
    {
     "data": {
      "text/html": [
       "<div>\n",
       "<style scoped>\n",
       "    .dataframe tbody tr th:only-of-type {\n",
       "        vertical-align: middle;\n",
       "    }\n",
       "\n",
       "    .dataframe tbody tr th {\n",
       "        vertical-align: top;\n",
       "    }\n",
       "\n",
       "    .dataframe thead th {\n",
       "        text-align: right;\n",
       "    }\n",
       "</style>\n",
       "<table border=\"1\" class=\"dataframe\">\n",
       "  <thead>\n",
       "    <tr style=\"text-align: right;\">\n",
       "      <th></th>\n",
       "      <th>학원교습소명</th>\n",
       "      <th>학원명</th>\n",
       "      <th>개설일자</th>\n",
       "      <th>등록일자</th>\n",
       "      <th>등록상태명</th>\n",
       "      <th>정원합계</th>\n",
       "      <th>일시수용능력인원합계</th>\n",
       "      <th>분야명</th>\n",
       "      <th>교습계열명</th>\n",
       "      <th>교습과정명</th>\n",
       "      <th>도로명우편번호</th>\n",
       "      <th>도로명주소</th>\n",
       "      <th>도로명상세주소</th>\n",
       "      <th>구</th>\n",
       "      <th>lat</th>\n",
       "      <th>lon</th>\n",
       "    </tr>\n",
       "  </thead>\n",
       "  <tbody>\n",
       "    <tr>\n",
       "      <th>0</th>\n",
       "      <td>학원</td>\n",
       "      <td>(2관)기찬에듀기찬수학학원</td>\n",
       "      <td>20200820</td>\n",
       "      <td>20200820</td>\n",
       "      <td>개원</td>\n",
       "      <td>240</td>\n",
       "      <td>95</td>\n",
       "      <td>입시.검정 및 보습</td>\n",
       "      <td>보통교과</td>\n",
       "      <td>보습</td>\n",
       "      <td>13555</td>\n",
       "      <td>경기도 성남시 분당구 정자일로 234</td>\n",
       "      <td>/ 305호 (정자동/ 태남프라자)</td>\n",
       "      <td>분당구</td>\n",
       "      <td>37.371212190</td>\n",
       "      <td>127.106281974</td>\n",
       "    </tr>\n",
       "    <tr>\n",
       "      <th>1</th>\n",
       "      <td>학원</td>\n",
       "      <td>(2관)짱솔학원</td>\n",
       "      <td>20151124</td>\n",
       "      <td>20151124</td>\n",
       "      <td>개원</td>\n",
       "      <td>150</td>\n",
       "      <td>114</td>\n",
       "      <td>입시.검정 및 보습</td>\n",
       "      <td>보통교과</td>\n",
       "      <td>보습</td>\n",
       "      <td>13601</td>\n",
       "      <td>경기도 성남시 분당구 불정로 252</td>\n",
       "      <td>/ 401호/402호 (수내동)</td>\n",
       "      <td>분당구</td>\n",
       "      <td>37.366216199</td>\n",
       "      <td>127.126641894</td>\n",
       "    </tr>\n",
       "    <tr>\n",
       "      <th>2</th>\n",
       "      <td>학원</td>\n",
       "      <td>(분당점)더원학원</td>\n",
       "      <td>20220610</td>\n",
       "      <td>20220610</td>\n",
       "      <td>개원</td>\n",
       "      <td>300</td>\n",
       "      <td>143</td>\n",
       "      <td>입시.검정 및 보습</td>\n",
       "      <td>보통교과</td>\n",
       "      <td>보습</td>\n",
       "      <td>13601</td>\n",
       "      <td>경기도 성남시 분당구 불정로 254</td>\n",
       "      <td>/ 4층 (수내동/ 삼평프라자)</td>\n",
       "      <td>분당구</td>\n",
       "      <td>37.366395367</td>\n",
       "      <td>127.126822062</td>\n",
       "    </tr>\n",
       "    <tr>\n",
       "      <th>3</th>\n",
       "      <td>학원</td>\n",
       "      <td>(주)그래디언트학원</td>\n",
       "      <td>20111205</td>\n",
       "      <td>20111205</td>\n",
       "      <td>개원</td>\n",
       "      <td>75</td>\n",
       "      <td>72</td>\n",
       "      <td>입시.검정 및 보습</td>\n",
       "      <td>보통교과</td>\n",
       "      <td>보습</td>\n",
       "      <td>13558</td>\n",
       "      <td>경기도 성남시 분당구 성남대로331번길 3-13</td>\n",
       "      <td>/ 606호 (정자동/ 대명제스트빌딩)</td>\n",
       "      <td>분당구</td>\n",
       "      <td>37.364393218</td>\n",
       "      <td>127.107695832</td>\n",
       "    </tr>\n",
       "    <tr>\n",
       "      <th>4</th>\n",
       "      <td>학원</td>\n",
       "      <td>(주)아이에스이영어원격학원</td>\n",
       "      <td>20120720</td>\n",
       "      <td>20120720</td>\n",
       "      <td>개원</td>\n",
       "      <td>27</td>\n",
       "      <td>100</td>\n",
       "      <td>입시.검정 및 보습</td>\n",
       "      <td>보통교과</td>\n",
       "      <td>보습</td>\n",
       "      <td>13591</td>\n",
       "      <td>경기도 성남시 분당구 황새울로360번길 21</td>\n",
       "      <td>/ 604호 일부 (서현동/ 분당서현신영팰리스타워)</td>\n",
       "      <td>분당구</td>\n",
       "      <td>37.385710025</td>\n",
       "      <td>127.125705411</td>\n",
       "    </tr>\n",
       "  </tbody>\n",
       "</table>\n",
       "</div>"
      ],
      "text/plain": [
       "  학원교습소명             학원명      개설일자      등록일자 등록상태명  정원합계  일시수용능력인원합계  \\\n",
       "0     학원  (2관)기찬에듀기찬수학학원  20200820  20200820    개원   240          95   \n",
       "1     학원        (2관)짱솔학원  20151124  20151124    개원   150         114   \n",
       "2     학원       (분당점)더원학원  20220610  20220610    개원   300         143   \n",
       "3     학원      (주)그래디언트학원  20111205  20111205    개원    75          72   \n",
       "4     학원  (주)아이에스이영어원격학원  20120720  20120720    개원    27         100   \n",
       "\n",
       "          분야명 교습계열명 교습과정명  도로명우편번호                       도로명주소  \\\n",
       "0  입시.검정 및 보습  보통교과    보습    13555        경기도 성남시 분당구 정자일로 234   \n",
       "1  입시.검정 및 보습  보통교과    보습    13601         경기도 성남시 분당구 불정로 252   \n",
       "2  입시.검정 및 보습  보통교과    보습    13601         경기도 성남시 분당구 불정로 254   \n",
       "3  입시.검정 및 보습  보통교과    보습    13558  경기도 성남시 분당구 성남대로331번길 3-13   \n",
       "4  입시.검정 및 보습  보통교과    보습    13591    경기도 성남시 분당구 황새울로360번길 21   \n",
       "\n",
       "                        도로명상세주소    구           lat            lon  \n",
       "0           / 305호 (정자동/ 태남프라자)  분당구  37.371212190  127.106281974  \n",
       "1             / 401호/402호 (수내동)  분당구  37.366216199  127.126641894  \n",
       "2             / 4층 (수내동/ 삼평프라자)  분당구  37.366395367  127.126822062  \n",
       "3         / 606호 (정자동/ 대명제스트빌딩)  분당구  37.364393218  127.107695832  \n",
       "4  / 604호 일부 (서현동/ 분당서현신영팰리스타워)  분당구  37.385710025  127.125705411  "
      ]
     },
     "execution_count": 25,
     "metadata": {},
     "output_type": "execute_result"
    }
   ],
   "source": [
    "df.head()"
   ]
  },
  {
   "cell_type": "code",
   "execution_count": 26,
   "metadata": {
    "ExecuteTime": {
     "end_time": "2023-03-13T02:38:53.152282Z",
     "start_time": "2023-03-13T02:38:53.056631Z"
    },
    "execution": {
     "iopub.execute_input": "2023-03-26T21:41:44.660935Z",
     "iopub.status.busy": "2023-03-26T21:41:44.659899Z",
     "iopub.status.idle": "2023-03-26T21:41:44.702522Z",
     "shell.execute_reply": "2023-03-26T21:41:44.702522Z",
     "shell.execute_reply.started": "2023-03-26T21:41:44.659899Z"
    }
   },
   "outputs": [],
   "source": [
    "df.to_csv('분당구데이터.csv', encoding='cp949', index=False) "
   ]
  },
  {
   "cell_type": "code",
   "execution_count": null,
   "metadata": {},
   "outputs": [],
   "source": []
  }
 ],
 "metadata": {
  "hide_input": false,
  "kernelspec": {
   "display_name": "Python 3 (ipykernel)",
   "language": "python",
   "name": "python3"
  },
  "language_info": {
   "codemirror_mode": {
    "name": "ipython",
    "version": 3
   },
   "file_extension": ".py",
   "mimetype": "text/x-python",
   "name": "python",
   "nbconvert_exporter": "python",
   "pygments_lexer": "ipython3",
   "version": "3.9.13"
  },
  "toc": {
   "base_numbering": 1,
   "nav_menu": {},
   "number_sections": true,
   "sideBar": false,
   "skip_h1_title": false,
   "title_cell": "Table of Contents",
   "title_sidebar": "Contents",
   "toc_cell": false,
   "toc_position": {
    "height": "calc(100% - 180px)",
    "left": "10px",
    "top": "150px",
    "width": "165px"
   },
   "toc_section_display": false,
   "toc_window_display": false
  },
  "varInspector": {
   "cols": {
    "lenName": 16,
    "lenType": 16,
    "lenVar": 40
   },
   "kernels_config": {
    "python": {
     "delete_cmd_postfix": "",
     "delete_cmd_prefix": "del ",
     "library": "var_list.py",
     "varRefreshCmd": "print(var_dic_list())"
    },
    "r": {
     "delete_cmd_postfix": ") ",
     "delete_cmd_prefix": "rm(",
     "library": "var_list.r",
     "varRefreshCmd": "cat(var_dic_list()) "
    }
   },
   "types_to_exclude": [
    "module",
    "function",
    "builtin_function_or_method",
    "instance",
    "_Feature"
   ],
   "window_display": false
  },
  "vscode": {
   "interpreter": {
    "hash": "b75ea0f9f9d6305e441d153e8e11fc7e49ba37cf2c14674dc2bea8193fef336e"
   }
  }
 },
 "nbformat": 4,
 "nbformat_minor": 4
}
